{
 "cells": [
  {
   "cell_type": "markdown",
   "id": "7224c29b",
   "metadata": {},
   "source": [
    "# Задачка со звездочкой на циклы."
   ]
  },
  {
   "cell_type": "markdown",
   "id": "51462a9f",
   "metadata": {},
   "source": [
    "**Условие: Посчитать, сколькими способами можно разменять купюру в 1000 рублей по 500, 200, 100 и 50 рублей.** Выведите:\n",
    "\n",
    "1. число вариантов целым числом;\n",
    "2. все комбинации размена с учетом лимита выдачи банкомата 10 купюр за один раз"
   ]
  },
  {
   "cell_type": "code",
   "execution_count": 1,
   "id": "2732c7a5",
   "metadata": {},
   "outputs": [
    {
     "name": "stdout",
     "output_type": "stream",
     "text": [
      "Число вариантов размена: 49\n"
     ]
    }
   ],
   "source": [
    "# Функция для подсчета числа вариантов размена\n",
    "def number_of_exchange_options():\n",
    "    denominations = [500, 200, 100, 50]\n",
    "    amount = 1000\n",
    "\n",
    "    dp = [0] * (amount + 1)\n",
    "    dp[0] = 1\n",
    "\n",
    "    for denom in denominations:\n",
    "        for i in range(denom, amount + 1):\n",
    "            dp[i] += dp[i - denom]\n",
    "\n",
    "    return dp[amount]\n",
    "\n",
    "print(\"Число вариантов размена:\", number_of_exchange_options())"
   ]
  },
  {
   "cell_type": "code",
   "execution_count": 2,
   "id": "e626d4b5",
   "metadata": {},
   "outputs": [
    {
     "name": "stdout",
     "output_type": "stream",
     "text": [
      "(0, 0, 10, 0)\n",
      "(0, 1, 7, 2)\n",
      "(0, 1, 8, 0)\n",
      "(0, 2, 4, 4)\n",
      "(0, 2, 5, 2)\n",
      "(0, 2, 6, 0)\n",
      "(0, 3, 1, 6)\n",
      "(0, 3, 2, 4)\n",
      "(0, 3, 3, 2)\n",
      "(0, 3, 4, 0)\n",
      "(0, 4, 0, 4)\n",
      "(0, 4, 1, 2)\n",
      "(0, 4, 2, 0)\n",
      "(0, 5, 0, 0)\n",
      "(1, 0, 1, 8)\n",
      "(1, 0, 2, 6)\n",
      "(1, 0, 3, 4)\n",
      "(1, 0, 4, 2)\n",
      "(1, 0, 5, 0)\n",
      "(1, 1, 0, 6)\n",
      "(1, 1, 1, 4)\n",
      "(1, 1, 2, 2)\n",
      "(1, 1, 3, 0)\n",
      "(1, 2, 0, 2)\n",
      "(1, 2, 1, 0)\n",
      "(2, 0, 0, 0)\n"
     ]
    }
   ],
   "source": [
    "# Функция для вывода всех комбинаций размена с учетом ограничения на общее количество банкнот\n",
    "def banknotes_10(limit):\n",
    "    combinations = []\n",
    "\n",
    "    for num_500s in range(limit + 1):\n",
    "        for num_200s in range(limit + 1):\n",
    "            for num_100s in range(limit + 1):\n",
    "                for num_50s in range(limit + 1):\n",
    "                    if (num_500s * 500 + num_200s * 200 + num_100s * 100 + num_50s * 50) == 1000 and (num_500s + num_200s + num_100s + num_50s) <= limit:\n",
    "                        combinations.append((num_500s, num_200s, num_100s, num_50s))\n",
    "\n",
    "    return combinations\n",
    "\n",
    "limit = 10\n",
    "combinations = banknotes_10(limit)\n",
    "for combination in combinations:\n",
    "    print(combination)"
   ]
  },
  {
   "cell_type": "code",
   "execution_count": null,
   "id": "2027c03d",
   "metadata": {},
   "outputs": [],
   "source": []
  }
 ],
 "metadata": {
  "kernelspec": {
   "display_name": "Python 3 (ipykernel)",
   "language": "python",
   "name": "python3"
  },
  "language_info": {
   "codemirror_mode": {
    "name": "ipython",
    "version": 3
   },
   "file_extension": ".py",
   "mimetype": "text/x-python",
   "name": "python",
   "nbconvert_exporter": "python",
   "pygments_lexer": "ipython3",
   "version": "3.11.5"
  }
 },
 "nbformat": 4,
 "nbformat_minor": 5
}
