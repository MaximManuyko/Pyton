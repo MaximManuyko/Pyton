{
 "cells": [
  {
   "cell_type": "markdown",
   "id": "bbaf0194-ef7a-48c9-a40e-e2e1995e5300",
   "metadata": {},
   "source": [
    "#Задача на выдачу минимального количество купюр.\n",
    "\n",
    "С проверкой ввода только целого положительного числа,\n",
    "выводом купюр количество, которых больше нуля и возможностью продолжения цикла, если вводиться целое положительное число."
   ]
  },
  {
   "cell_type": "code",
   "execution_count": null,
   "id": "cbaeae77-2638-4358-966a-f98cf82edf8c",
   "metadata": {},
   "outputs": [],
   "source": [
    "def is_positive_integer(value):\n",
    "    return value.isdigit() and int(value) > 0\n",
    "\n",
    "while True:\n",
    "    first_iteration = True\n",
    "    sum_input = input(\"Введите сумму(Руб.): \")\n",
    "\n",
    "    while is_positive_integer(sum_input):\n",
    "        sum_input = int(sum_input)\n",
    "        nominals = [5000, 2000, 1000, 500, 100, 50, 10, 1]\n",
    "\n",
    "        k_5000 = 0\n",
    "        k_2000 = 0\n",
    "        k_1000 = 0\n",
    "        k_500 = 0\n",
    "        k_100 = 0\n",
    "        k_50 = 0\n",
    "        k_10 = 0\n",
    "        k_1 = 0\n",
    "\n",
    "        for nominal in nominals:\n",
    "            while sum_input >= nominal:\n",
    "                count = sum_input // nominal\n",
    "                sum_input -= count * nominal\n",
    "                if nominal == 5000:\n",
    "                    k_5000 = count\n",
    "                elif nominal == 2000:\n",
    "                    k_2000 = count\n",
    "                elif nominal == 1000:\n",
    "                    k_1000 = count\n",
    "                elif nominal == 500:\n",
    "                    k_500 = count\n",
    "                elif nominal == 100:\n",
    "                    k_100 = count\n",
    "                elif nominal == 50:\n",
    "                    k_50 = count\n",
    "                elif nominal == 10:\n",
    "                    k_10 = count\n",
    "                elif nominal == 1:\n",
    "                    k_1 = count\n",
    "\n",
    "        if k_5000 > 0:\n",
    "            print(\"Количество купюр 5000 руб =\", k_5000)\n",
    "        if k_2000 > 0:\n",
    "            print(\"Количество купюр 2000 руб =\", k_2000)\n",
    "        if k_1000 > 0:\n",
    "            print(\"Количество купюр 1000 руб =\", k_1000)\n",
    "        if k_500 > 0:\n",
    "            print(\"Количество купюр 500 руб =\", k_500)\n",
    "        if k_100 > 0:\n",
    "            print(\"Количество купюр 100 руб =\", k_100)\n",
    "        if k_50 > 0:\n",
    "            print(\"Количество купюр 50 руб =\", k_50)\n",
    "        if k_10 > 0:\n",
    "            print(\"Количество купюр 10 руб =\", k_10)\n",
    "        if k_1 > 0:\n",
    "            print(\"Количество купюр 1 руб =\", k_1)\n",
    "\n",
    "        first_iteration = False  # Первая итерация завершена\n",
    "        sum_input = input(\"Введите сумму(Руб.): \")\n",
    "\n",
    "    if not first_iteration:\n",
    "        break  # Завершаем выполнение, если ввод не соответствует требованиям после первой итерации\n"
   ]
  }
 ],
 "metadata": {
  "kernelspec": {
   "display_name": "Python 3 (ipykernel)",
   "language": "python",
   "name": "python3"
  },
  "language_info": {
   "codemirror_mode": {
    "name": "ipython",
    "version": 3
   },
   "file_extension": ".py",
   "mimetype": "text/x-python",
   "name": "python",
   "nbconvert_exporter": "python",
   "pygments_lexer": "ipython3",
   "version": "3.11.5"
  }
 },
 "nbformat": 4,
 "nbformat_minor": 5
}
