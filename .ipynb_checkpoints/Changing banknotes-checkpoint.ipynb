{
 "cells": [
  {
   "cell_type": "markdown",
   "id": "3d884bf5-6e9e-45b4-ae03-ccc0e8e5ef0a",
   "metadata": {},
   "source": [
    "#Условие: Посчитать, сколькими способами можно разменять купюру в 1000 рублей по 500, 200, 100 и 50 рублей.\n",
    "\n",
    "**Выведите:** \n",
    "1) число вариантов целым числом; \n",
    "2) все комбинации размена с учетом лимита выдачи банкомата 10 купюр за один раз "
   ]
  },
  {
   "cell_type": "code",
   "execution_count": null,
   "id": "70314956-0583-412d-b094-33b9a73e4135",
   "metadata": {},
   "outputs": [],
   "source": [
    "def count_ways_to_exchange(amount):\n",
    "    # Создаем таблицу для хранения количества способов размена для каждой суммы от 0 до amount.\n",
    "    # Инициализируем таблицу нулями.\n",
    "    dp = [0] * (amount + 1)\n",
    "    \n",
    "    # У нас всегда есть один способ размена 0 рублей - не разменивать ничего.\n",
    "    dp[0] = 1\n",
    "\n",
    "    # Номиналы купюр\n",
    "    denominations = [500, 200, 100, 50]\n",
    "\n",
    "    # Для каждого номинала купюры\n",
    "    for denom in denominations:\n",
    "        # Начинаем суммировать способы размена, начиная с текущего номинала до amount\n",
    "        for i in range(denom, amount + 1):\n",
    "            dp[i] += dp[i - denom]\n",
    "\n",
    "    # Количество способов размена для заданной суммы находится в последней ячейке таблицы.\n",
    "    number_of_ways = dp[amount]\n",
    "    print()\n",
    "    print(\"Общее число вариантов размена:\", number_of_ways)\n",
    "    print()\n",
    "    print(\"Варианты размена с ограничением 10 купюр:\")\n",
    "\n",
    "    # Добавляем код для вывода всех комбинаций размена\n",
    "    combinations = []\n",
    "\n",
    "    def find_combinations(remaining, current_combination, denom_index):\n",
    "        # Если размен успешно выполнен и количество купюр не превышает 10, сохраняем комбинацию.\n",
    "        if remaining == 0 and sum(current_combination) <= 10:\n",
    "            combinations.append(current_combination)\n",
    "            return\n",
    "        if denom_index == len(denominations):\n",
    "            return\n",
    "        for count in range(11):\n",
    "            new_combination = current_combination[:]\n",
    "            new_combination[denom_index] = count\n",
    "            # Рекурсивно ищем комбинации размена для оставшейся суммы.\n",
    "            find_combinations(remaining - count * denominations[denom_index], new_combination, denom_index + 1)\n",
    "\n",
    "    # Начинаем поиск комбинаций размена для заданной суммы и начальной комбинации [0, 0, 0, 0].\n",
    "    find_combinations(amount, [0, 0, 0, 0], 0)\n",
    "\n",
    "    # Выводим найденные комбинации размена.\n",
    "    for i, combination in enumerate(combinations):\n",
    "        print(f\"Вариант {i + 1}; 500 руб. {combination[0]}; 200 руб. {combination[1]}; 100 руб. {combination[2]}; 50 руб. {combination[3]}\")\n",
    "\n",
    "# Вызываем функцию с заданной суммой 1000 рублей\n",
    "count_ways_to_exchange(1000)\n"
   ]
  }
 ],
 "metadata": {
  "kernelspec": {
   "display_name": "Python 3 (ipykernel)",
   "language": "python",
   "name": "python3"
  },
  "language_info": {
   "codemirror_mode": {
    "name": "ipython",
    "version": 3
   },
   "file_extension": ".py",
   "mimetype": "text/x-python",
   "name": "python",
   "nbconvert_exporter": "python",
   "pygments_lexer": "ipython3",
   "version": "3.11.5"
  }
 },
 "nbformat": 4,
 "nbformat_minor": 5
}
